{
 "cells": [
  {
   "cell_type": "markdown",
   "id": "fd2bb0a5",
   "metadata": {},
   "source": [
    "# Question 6\n"
   ]
  },
  {
   "cell_type": "code",
   "execution_count": 11,
   "id": "09ad816f",
   "metadata": {},
   "outputs": [
    {
     "name": "stdout",
     "output_type": "stream",
     "text": [
      "appyhay\n"
     ]
    }
   ],
   "source": [
    "def pig(k):\n",
    "  word = k.split()\n",
    "  pig_null = []\n",
    "\n",
    "  for val in word:\n",
    "    val = val[1:] + val[0] + 'ay'\n",
    "    pig_null.append(val)\n",
    "\n",
    "  return ' '.join( pig_null)\n",
    "\n",
    "(print(pig(\"happy\")))"
   ]
  },
  {
   "cell_type": "markdown",
   "id": "0b63bb7d",
   "metadata": {},
   "source": [
    "# Question 7"
   ]
  },
  {
   "cell_type": "code",
   "execution_count": 18,
   "id": "8f612019",
   "metadata": {},
   "outputs": [],
   "source": [
    "def bldcount(val):\n",
    "        val= open(r'C:\\Users\\riyam\\OneDrive\\Documents\\bloodtype1.txt')\n",
    "        \n",
    "        data=val.read().split()\n",
    "        print(data)\n",
    "        countA,countB,countAB,countO,countOO =0,0,0,0,0\n",
    "        for i in data:\n",
    "                if i =='A':\n",
    "                    countA+=1\n",
    "                elif i=='B':\n",
    "                    countB+=1\n",
    "                elif i=='AB':\n",
    "                    countAB+=1\n",
    "                elif i=='O':\n",
    "                     countO+=1\n",
    "                else:\n",
    "                    countOO+=1\n",
    "        print(\"There are\",countA,\"patients of blood type A\")\n",
    "        print(\"There are\", countB,\"patients of blood type B\")\n",
    "        print(\"There are\", countAB,\"patients of blood type AB\")\n",
    "        print(\"There are\", countO,\"patients of blood type O\")\n",
    "        print(\"There are\", countOO,\"patients of blood type OO\")"
   ]
  },
  {
   "cell_type": "code",
   "execution_count": 19,
   "id": "31012189",
   "metadata": {},
   "outputs": [
    {
     "name": "stdout",
     "output_type": "stream",
     "text": [
      "['AB', 'AB', 'B', 'O', 'A', 'A', 'AB', 'O', 'AB', 'A', 'O', 'O', 'A', 'A', 'A', 'O', 'O', 'O', 'AB', 'O', 'A', 'A', 'A', 'A', 'A', 'AB', 'AB', 'A', 'AB', 'O', 'AB', 'O', 'A', 'O', 'O', 'O', 'AB', 'O', 'AB', 'AB', 'AB', 'A', 'A', 'O']\n",
      "There are 15 patients of blood type A\n",
      "There are 1 patients of blood type B\n",
      "There are 13 patients of blood type AB\n",
      "There are 15 patients of blood type O\n",
      "There are 0 patients of blood type OO\n"
     ]
    }
   ],
   "source": [
    "bldcount(r'C:\\Users\\riyam\\OneDrive\\Documents\\bloodtype1.txt')"
   ]
  },
  {
   "cell_type": "markdown",
   "id": "ddbe4257",
   "metadata": {},
   "source": [
    "# Question 8"
   ]
  },
  {
   "cell_type": "code",
   "execution_count": 27,
   "id": "ac2ec632",
   "metadata": {},
   "outputs": [],
   "source": [
    "def curconv(currency,amount):\n",
    "    x = open(r'C:\\Users\\riyam\\OneDrive\\Documents\\currencies.txt')\n",
    "    g=x.readlines()\n",
    "    val1=[]\n",
    "    val2=[]\n",
    "    val3=[]\n",
    "    x.close()\n",
    "    for i in g:\n",
    "        j=0\n",
    "        k=i.split('\\t')\n",
    "        for j in range(len(k)-2):\n",
    "            val1.append(k[j])\n",
    "            val2.append(float(k[j+1]))\n",
    "            val3.append(k[j+2].strip())\n",
    "    h=val1.index(currency)\n",
    "    return amount*val2[h]\n"
   ]
  },
  {
   "cell_type": "code",
   "execution_count": 28,
   "id": "09a7f275",
   "metadata": {},
   "outputs": [
    {
     "data": {
      "text/plain": [
       "102.37414"
      ]
     },
     "execution_count": 28,
     "metadata": {},
     "output_type": "execute_result"
    }
   ],
   "source": [
    "curconv(\"CHF\",100)"
   ]
  },
  {
   "cell_type": "markdown",
   "id": "14a4854d",
   "metadata": {},
   "source": [
    "# Question 9"
   ]
  },
  {
   "cell_type": "code",
   "execution_count": null,
   "id": "48a543bd",
   "metadata": {},
   "outputs": [],
   "source": [
    "There will be an exception for each of the following (an error). What kind of exception will each one cause?\n",
    "\n",
    "1. Attempting to add variables that are not supported, such as adding 6 + \"a\" as an answer.\n",
    "2. Referring to the twelfth item on a list of ten items. response) Out of index \n",
    "3. Using a number outside of a function's acceptable range, such as by using math.sqrt(-1.0) answer)domain error\n",
    "4. Making use of an undeclared variable, such as print(x), while x has not been defined answer)Variable not defined \n",
    "5. Attempting to open a file that doesn't exist, either due to a typo or a misdirected search. (Sorry, no such dictionary was found."
   ]
  },
  {
   "cell_type": "code",
   "execution_count": null,
   "id": "b4597d40",
   "metadata": {},
   "outputs": [],
   "source": []
  }
 ],
 "metadata": {
  "kernelspec": {
   "display_name": "Python 3 (ipykernel)",
   "language": "python",
   "name": "python3"
  },
  "language_info": {
   "codemirror_mode": {
    "name": "ipython",
    "version": 3
   },
   "file_extension": ".py",
   "mimetype": "text/x-python",
   "name": "python",
   "nbconvert_exporter": "python",
   "pygments_lexer": "ipython3",
   "version": "3.9.12"
  }
 },
 "nbformat": 4,
 "nbformat_minor": 5
}
