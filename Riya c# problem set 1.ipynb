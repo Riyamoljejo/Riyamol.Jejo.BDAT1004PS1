{
 "cells": [
  {
   "cell_type": "markdown",
   "id": "ffce16e6",
   "metadata": {},
   "source": [
    "# Question 1"
   ]
  },
  {
   "cell_type": "code",
   "execution_count": null,
   "id": "582f3fe9",
   "metadata": {
    "vscode": {
     "languageId": "csharp"
    }
   },
   "outputs": [],
   "source": [
    "5 is an Integer whole number\n",
    "5.0 is a floating point number\n",
    "5 > 1 is a Relational operator\n",
    "'5' is a string\n",
    "5 * 2 is Arithmetic operator\n",
    "'5・2\n",
    "'5' + '2'is a string\n",
    "5 / 2 is Arithmetic operator\n",
    "5 % 2 is an Arithmetic Operator (5, 2, 1) Array\n",
    "5 == 3 is relational operators\n",
    "Pi (the number) -Logical operators"
   ]
  },
  {
   "cell_type": "markdown",
   "id": "8b69fdcb",
   "metadata": {},
   "source": [
    "# Question 2"
   ]
  },
  {
   "cell_type": "code",
   "execution_count": 7,
   "id": "84f13d35",
   "metadata": {
    "vscode": {
     "languageId": "csharp"
    }
   },
   "outputs": [
    {
     "name": "stdout",
     "output_type": "stream",
     "text": [
      "Number of words in the string = 34\n"
     ]
    }
   ],
   "source": [
    "//a\n",
    "        \n",
    "        string set = \"Supercalifragilisticexpialidocious\";\n",
    "        string x=\"ice\";\n",
    "        int y = set.Length;\n",
    "        Console.Write(\"Number of words in the string = {0}\\n\", y);\n",
    "\n"
   ]
  },
  {
   "cell_type": "code",
   "execution_count": 16,
   "id": "6b6a3f3f",
   "metadata": {
    "vscode": {
     "languageId": "csharp"
    }
   },
   "outputs": [
    {
     "name": "stdout",
     "output_type": "stream",
     "text": [
      "string Bababadalgharaghtakamminarronnkonn is longer"
     ]
    }
   ],
   "source": [
    "//c\n",
    "\n",
    "string x1 = \"Supercalifragilisticexpialidocious\";\n",
    "string y1 = \"Honorificabilitudinitatibus\";\n",
    "string z1 = \"Bababadalgharaghtakamminarronnkonn\";\n",
    "int l = x1.Length;\n",
    "int r = y1.Length;\n",
    "int s = z1.Length;\n",
    "\n",
    "if(l>r && l>s )\n",
    "{\n",
    "  Console.Write($\"string {x1} is longer\" );\n",
    "}   \n",
    "else if(r>1 && r>s)\n",
    "        \n",
    "    {\n",
    "        Console.Write($\"string {y1} is longer\" );\n",
    "    }\n",
    "\n",
    "\n",
    "else{\n",
    "    Console.Write($\"string {z1} is longer\" );\n",
    "}"
   ]
  },
  {
   "cell_type": "markdown",
   "id": "a18c8acf",
   "metadata": {},
   "source": [
    "# Question 3"
   ]
  },
  {
   "cell_type": "code",
   "execution_count": 19,
   "id": "5e505f3c",
   "metadata": {
    "vscode": {
     "languageId": "csharp"
    }
   },
   "outputs": [
    {
     "name": "stdout",
     "output_type": "stream",
     "text": [
      "Area of tirangle:1.7320508075688772"
     ]
    }
   ],
   "source": [
    "double a = 2;\n",
    "        \n",
    "        double b = 2;\n",
    "        \n",
    "        double c = 2;\n",
    "\n",
    "        \n",
    "        double s = (a + b+ c) / 2;\n",
    "        double x = s - a;\n",
    "        double y = s - b;\n",
    "        double z = s - c;\n",
    "\n",
    "        double area = Math.Sqrt(s*x*y*z);\n",
    "        Console.Write($\"Area:{area}\");"
   ]
  },
  {
   "cell_type": "markdown",
   "id": "4e3890af",
   "metadata": {},
   "source": [
    "# Question 4"
   ]
  },
  {
   "cell_type": "code",
   "execution_count": 21,
   "id": "8d13000f",
   "metadata": {
    "vscode": {
     "languageId": "csharp"
    }
   },
   "outputs": [
    {
     "name": "stdout",
     "output_type": "stream",
     "text": [
      "Even numbers are\n",
      "42\n",
      "56\n",
      "32\n",
      "Odd numbers are\n",
      "25\n",
      "47\n"
     ]
    }
   ],
   "source": [
    " int[] set1 = new int[] {\n",
    "            25,\n",
    "            47,\n",
    "            42,\n",
    "            56,\n",
    "            32\n",
    "         };\n",
    "            int[] set2 = new int[5];\n",
    "            int[] set3 = new int[5];\n",
    "            int i, j = 0, k = 0;\n",
    "            for (i = 0; i < 5; i++)\n",
    "            {\n",
    "                if (set1[i] % 2 == 0)\n",
    "                {\n",
    "                    set2[j] = set1[i];\n",
    "                    j++;\n",
    "                }\n",
    "                else\n",
    "                {\n",
    "                    set3[k] = set1[i];\n",
    "                    k++;\n",
    "                }\n",
    "            }\n",
    "            Console.WriteLine(\"Even numbers are\");\n",
    "            for (i = 0; i < j; i++)\n",
    "            {\n",
    "                Console.WriteLine(set2[i]);\n",
    "            }\n",
    "            Console.WriteLine(\"Odd numbers are\");\n",
    "            for (i = 0; i < k; i++)\n",
    "            {\n",
    "                Console.WriteLine(set3[i]);\n",
    "                }"
   ]
  }
 ],
 "metadata": {
  "kernelspec": {
   "display_name": ".NET (C#)",
   "language": "C#",
   "name": ".net-csharp"
  },
  "language_info": {
   "file_extension": ".cs",
   "mimetype": "text/x-csharp",
   "name": "C#",
   "pygments_lexer": "csharp",
   "version": "8.0"
  }
 },
 "nbformat": 4,
 "nbformat_minor": 5
}
